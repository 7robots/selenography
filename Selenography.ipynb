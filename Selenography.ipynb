{
 "cells": [
  {
   "cell_type": "markdown",
   "id": "9cd78b7a-0e12-4f7e-858e-b4df04f59331",
   "metadata": {
    "tags": []
   },
   "source": [
    "# Load the POI CSV database as a pandas dataframe and run a couple of head() check to confirm that the data is there "
   ]
  },
  {
   "cell_type": "code",
   "execution_count": null,
   "id": "fa85b797-3a5d-4838-b6bb-f6d3d146baf9",
   "metadata": {},
   "outputs": [],
   "source": [
    "import pandas as pd\n",
    "poi_data = pd.read_csv(\"Selenography POI CSV.csv\")\n",
    "poi_data.head()\n"
   ]
  },
  {
   "cell_type": "markdown",
   "id": "d9f5990c-c479-466b-8f05-7ecaf6a3d454",
   "metadata": {},
   "source": [
    "# Show some basic distribution stats on the types of lunar features"
   ]
  },
  {
   "cell_type": "code",
   "execution_count": null,
   "id": "a84f43a3-c9e0-46a0-8005-0eb6e31b311a",
   "metadata": {
    "tags": []
   },
   "outputs": [],
   "source": [
    "poi_data[\"Type\"].count()"
   ]
  },
  {
   "cell_type": "code",
   "execution_count": null,
   "id": "5f12366d-4267-468f-86b5-d32a6bb74049",
   "metadata": {},
   "outputs": [],
   "source": [
    "TypeCount = poi_data.groupby(\"Type\").size()\n",
    "print(TypeCount)"
   ]
  },
  {
   "cell_type": "code",
   "execution_count": null,
   "id": "882222fe-ea85-4376-8c2e-321501d7d95b",
   "metadata": {},
   "outputs": [],
   "source": [
    "import matplotlib.pyplot as plt\n",
    "plt.clf()\n",
    "TypeCount.plot(kind=\"bar\")\n",
    "plt.ylim(0,200)\n",
    "plt.show()"
   ]
  },
  {
   "cell_type": "code",
   "execution_count": null,
   "id": "5f3b74aa-3e50-4b98-8cbc-5d0b7a104ffb",
   "metadata": {
    "tags": []
   },
   "outputs": [],
   "source": [
    "import matplotlib.pyplot as plt\n",
    "plt.clf()\n",
    "TypeCount.plot(kind=\"bar\")\n",
    "plt.show()"
   ]
  },
  {
   "cell_type": "markdown",
   "id": "746a5f41-272f-48db-8b49-9c55f8b3ac87",
   "metadata": {},
   "source": [
    "## Statistics on lunar craters"
   ]
  },
  {
   "cell_type": "code",
   "execution_count": null,
   "id": "7163f82c-1f1b-43dc-aab7-24f9419145b7",
   "metadata": {},
   "outputs": [],
   "source": [
    "CraterDF = poi_data[poi_data.Type == \"Crater, craters\"]\n",
    "CraterDF.head()"
   ]
  },
  {
   "cell_type": "code",
   "execution_count": null,
   "id": "8b85dede-f915-4445-abe1-9721efa7b23d",
   "metadata": {},
   "outputs": [],
   "source": [
    "CraterDF.Diameter.plot(kind='hist', bins = 10)\n",
    "plt.title('Distribution of Craters Based on Size')\n",
    "plt.xlabel('Diameter of Craters')\n",
    "plt.ylabel('Number of Craters')\n",
    "plt.xticks([0, 50, 100, 150, 200, 250, 300, 350, 400, 450, 500],[0, 50, 100, 150, 200, 250, 300, 350, 400, 450, 500] )\n",
    "plt.show()"
   ]
  },
  {
   "cell_type": "code",
   "execution_count": null,
   "id": "8fba98a3-cd4c-469a-ad28-8cb105466742",
   "metadata": {},
   "outputs": [],
   "source": [
    "CraterDF.Center_Lat.plot(kind='hist', bins = 2, facecolor = 'g')\n",
    "plt.title('Distribution of Craters in Northern and Southern Hemispheres')\n",
    "plt.xlabel('Hemisphere Location: Southern = -90 to 0; Northern = 0 to 90')\n",
    "plt.ylabel('Number of Craters')\n",
    "plt.xticks([-180,-1,0,180],['Northern', 'Southern'] )\n",
    "plt.show()"
   ]
  },
  {
   "cell_type": "code",
   "execution_count": null,
   "id": "1171ebb8-cb3b-4a77-af8e-93ab2780fc92",
   "metadata": {},
   "outputs": [],
   "source": [
    "CraterDF.Center_Lon.plot(kind='hist', bins = 2, facecolor = 'r')\n",
    "plt.title('Distribution of Craters in Western and Eastern Hemispheres')\n",
    "plt.xlabel('Hemisphere Location: Western = -90 to 0; Eastern = 0 to 90')\n",
    "plt.ylabel('Number of Craters')\n",
    "plt.show()"
   ]
  },
  {
   "cell_type": "markdown",
   "id": "77ea677d-2c4a-4d1b-ab26-2f1907ba941f",
   "metadata": {},
   "source": [
    "# stats on lunar mare"
   ]
  },
  {
   "cell_type": "code",
   "execution_count": null,
   "id": "863dadbe-8215-495c-a2a9-4f30f1ead2b1",
   "metadata": {},
   "outputs": [],
   "source": [
    "MareDF = poi_data[poi_data.Type == \"Mare, maria\"]\n",
    "MareDF.head()"
   ]
  },
  {
   "cell_type": "code",
   "execution_count": null,
   "id": "10349b16-14c0-4b63-9f76-c5d82d99d70f",
   "metadata": {},
   "outputs": [],
   "source": [
    "MareDF.Diameter.plot(kind='hist', bins = 4)\n",
    "plt.title('Distribution of Mare Based on Size')"
   ]
  },
  {
   "cell_type": "code",
   "execution_count": null,
   "id": "97a3d3ee-d111-4f44-8e3c-ce302f1ff010",
   "metadata": {},
   "outputs": [],
   "source": []
  }
 ],
 "metadata": {
  "kernelspec": {
   "display_name": "Python 3.9.6 64-bit",
   "language": "python",
   "name": "python3"
  },
  "language_info": {
   "codemirror_mode": {
    "name": "ipython",
    "version": 3
   },
   "file_extension": ".py",
   "mimetype": "text/x-python",
   "name": "python",
   "nbconvert_exporter": "python",
   "pygments_lexer": "ipython3",
   "version": "3.11.2"
  },
  "vscode": {
   "interpreter": {
    "hash": "31f2aee4e71d21fbe5cf8b01ff0e069b9275f58929596ceb00d14d90e3e16cd6"
   }
  }
 },
 "nbformat": 4,
 "nbformat_minor": 5
}
